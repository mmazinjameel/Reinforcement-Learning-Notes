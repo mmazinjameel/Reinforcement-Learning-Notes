{
 "cells": [
  {
   "cell_type": "code",
   "execution_count": 17,
   "id": "083aff20",
   "metadata": {},
   "outputs": [
    {
     "data": {
      "text/plain": [
       "(array([[ 0.,  0.,  0.,  1.],\n",
       "        [ 0., nan,  0., -1.],\n",
       "        [ 0.,  0.,  0.,  0.]]),\n",
       " [(0, 3), (1, 3)],\n",
       " [(1, 1)])"
      ]
     },
     "execution_count": 17,
     "metadata": {},
     "output_type": "execute_result"
    }
   ],
   "source": [
    "import numpy as np\n",
    "import matplotlib.pyplot as plt\n",
    "\n",
    "# Environment parameters\n",
    "gamma = 0.9\n",
    "noise = 0.2\n",
    "living_reward = 0\n",
    "\n",
    "# Grid dimensions\n",
    "rows, cols = 3, 4\n",
    "\n",
    "# Define the rewards grid\n",
    "# None = wall, other values = rewards\n",
    "rewards = np.zeros((rows, cols))\n",
    "rewards[0, 3] = +1  # Terminal state with +1\n",
    "rewards[1, 3] = -1  # Terminal state with -1\n",
    "rewards[1, 1] = None  # Wall\n",
    "\n",
    "# Terminal and wall states\n",
    "terminal_states = [(0, 3), (1, 3)]\n",
    "wall_states = [(1, 1)]\n",
    "\n",
    "rewards, terminal_states, wall_states"
   ]
  },
  {
   "cell_type": "markdown",
   "id": "20427248",
   "metadata": {},
   "source": [
    "# Display the maze"
   ]
  },
  {
   "cell_type": "code",
   "execution_count": 18,
   "id": "b3f6c00c",
   "metadata": {},
   "outputs": [
    {
     "data": {
      "image/png": "[encoded data removed]",
      "text/plain": [
       "<Figure size 600x400 with 1 Axes>"
      ]
     },
     "metadata": {},
     "output_type": "display_data"
    }
   ],
   "source": [
    "# Prepare a display matrix for visualization\n",
    "display_matrix = np.full((rows, cols), '', dtype=object)\n",
    "\n",
    "# Fill in the display matrix\n",
    "for r in range(rows):\n",
    "    for c in range(cols):\n",
    "        if (r, c) in terminal_states:\n",
    "            display_matrix[r, c] = f\"{rewards[r, c]:.0f}\"\n",
    "        elif (r, c) in wall_states:\n",
    "            display_matrix[r, c] = \"W\"\n",
    "        else:\n",
    "            display_matrix[r, c] = \".\"\n",
    "\n",
    "# Plotting\n",
    "fig, ax = plt.subplots(figsize=(6, 4))\n",
    "ax.set_xticks(np.arange(cols + 1) - 0.5, minor=True)\n",
    "ax.set_yticks(np.arange(rows + 1) - 0.5, minor=True)\n",
    "ax.grid(which=\"minor\", color=\"black\", linestyle='-', linewidth=1)\n",
    "ax.tick_params(which=\"minor\", bottom=False, left=False)\n",
    "\n",
    "# Display each cell's label\n",
    "for r in range(rows):\n",
    "    for c in range(cols):\n",
    "        text = display_matrix[r, c]\n",
    "        ax.text(c, r, text, va='center', ha='center', fontsize=16)\n",
    "\n",
    "# Set axis limits and hide major ticks\n",
    "ax.set_xlim(-0.5, cols - 0.5)\n",
    "ax.set_ylim(rows - 0.5, -0.5)\n",
    "ax.set_xticks([])\n",
    "ax.set_yticks([])\n",
    "\n",
    "plt.title(\"MDP Grid Environment\")\n",
    "plt.show()"
   ]
  },
  {
   "cell_type": "code",
   "execution_count": 19,
   "id": "159a4898",
   "metadata": {},
   "outputs": [
    {
     "data": {
      "text/plain": [
       "array([[0., 0., 0., 0.],\n",
       "       [0., 0., 0., 0.],\n",
       "       [0., 0., 0., 0.]])"
      ]
     },
     "execution_count": 19,
     "metadata": {},
     "output_type": "execute_result"
    }
   ],
   "source": [
    "# Actions and their directions\n",
    "actions = ['U', 'D', 'L', 'R']\n",
    "action_vectors = {\n",
    "    'U': (-1, 0),\n",
    "    'D': (1, 0),\n",
    "    'L': (0, -1),\n",
    "    'R': (0, 1)\n",
    "}\n",
    "\n",
    "# Initialize value function\n",
    "V = np.zeros((rows, cols))\n",
    "policy = np.full((rows, cols), '', dtype=object)\n",
    "\n",
    "V"
   ]
  },
  {
   "cell_type": "code",
   "execution_count": 23,
   "id": "5b358e9e",
   "metadata": {},
   "outputs": [],
   "source": [
    "\n",
    "\n",
    "# Utility function to check bounds\n",
    "def in_bounds(state):\n",
    "    r, c = state\n",
    "    return 0 <= r < rows and 0 <= c < cols and (r, c) not in wall_states\n",
    "\n",
    "# Perform one-step lookahead for all actions from a state\n",
    "def compute_action_value(state, action, V):\n",
    "    r, c = state\n",
    "    primary_move = action_vectors[action]\n",
    "\n",
    "    # Define possible noisy outcomes\n",
    "    if action in ['U', 'D']:\n",
    "        sideways = ['L', 'R']\n",
    "    else:\n",
    "        sideways = ['U', 'D']\n",
    "    \n",
    "    moves = [(primary_move, 1 - noise)] + [(action_vectors[a], noise / 2) for a in sideways]\n",
    "\n",
    "    value = 0\n",
    "    for move, prob in moves:\n",
    "        new_r, new_c = r + move[0], c + move[1]\n",
    "        if not in_bounds((new_r, new_c)):\n",
    "            new_r, new_c = r, c  # Bounce back\n",
    "        reward = living_reward if (new_r, new_c) not in terminal_states else rewards[new_r, new_c]\n",
    "        value += prob * (reward + gamma * V[new_r, new_c])\n",
    "    return value\n",
    "\n",
    "# Value iteration loop\n",
    "theta = 1e-4\n",
    "iteration = 0\n",
    "while True:\n",
    "    delta = 0\n",
    "    new_V = np.copy(V)\n",
    "    for r in range(rows):\n",
    "        for c in range(cols):\n",
    "            if (r, c) in terminal_states or (r, c) in wall_states:\n",
    "                continue\n",
    "            values = [compute_action_value((r, c), a, V) for a in actions]\n",
    "            best_value = max(values)\n",
    "            new_V[r, c] = best_value\n",
    "            delta = max(delta, abs(best_value - V[r, c]))\n",
    "    V = new_V\n",
    "    iteration += 1\n",
    "    if delta < theta:\n",
    "        break\n",
    "\n",
    "# Derive policy\n",
    "for r in range(rows):\n",
    "    for c in range(cols):\n",
    "        if (r, c) in terminal_states:\n",
    "            policy[r, c] = 'T'\n",
    "        elif (r, c) in wall_states:\n",
    "            policy[r, c] = 'W'\n",
    "        else:\n",
    "            values = [compute_action_value((r, c), a, V) for a in actions]\n",
    "            best_action = actions[np.argmax(values)]\n",
    "            policy[r, c] = best_action\n",
    "\n"
   ]
  },
  {
   "cell_type": "code",
   "execution_count": 22,
   "id": "25c93db7",
   "metadata": {},
   "outputs": [
    {
     "data": {
      "text/html": [
       "<div>\n",
       "<style scoped>\n",
       "    .dataframe tbody tr th:only-of-type {\n",
       "        vertical-align: middle;\n",
       "    }\n",
       "\n",
       "    .dataframe tbody tr th {\n",
       "        vertical-align: top;\n",
       "    }\n",
       "\n",
       "    .dataframe thead th {\n",
       "        text-align: right;\n",
       "    }\n",
       "</style>\n",
       "<table border=\"1\" class=\"dataframe\">\n",
       "  <thead>\n",
       "    <tr style=\"text-align: right;\">\n",
       "      <th></th>\n",
       "      <th>0</th>\n",
       "      <th>1</th>\n",
       "      <th>2</th>\n",
       "      <th>3</th>\n",
       "    </tr>\n",
       "  </thead>\n",
       "  <tbody>\n",
       "    <tr>\n",
       "      <th>0</th>\n",
       "      <td>R</td>\n",
       "      <td>R</td>\n",
       "      <td>R</td>\n",
       "      <td>T</td>\n",
       "    </tr>\n",
       "    <tr>\n",
       "      <th>1</th>\n",
       "      <td>U</td>\n",
       "      <td>W</td>\n",
       "      <td>U</td>\n",
       "      <td>T</td>\n",
       "    </tr>\n",
       "    <tr>\n",
       "      <th>2</th>\n",
       "      <td>U</td>\n",
       "      <td>L</td>\n",
       "      <td>U</td>\n",
       "      <td>L</td>\n",
       "    </tr>\n",
       "  </tbody>\n",
       "</table>\n",
       "</div>"
      ],
      "text/plain": [
       "   0  1  2  3\n",
       "0  R  R  R  T\n",
       "1  U  W  U  T\n",
       "2  U  L  U  L"
      ]
     },
     "execution_count": 22,
     "metadata": {},
     "output_type": "execute_result"
    }
   ],
   "source": [
    "import pandas as pd\n",
    "\n",
    "# Display the value function\n",
    "pd.DataFrame(V)\n",
    "\n",
    "# Display the policy\n",
    "pd.DataFrame(policy)"
   ]
  }
 ],
 "metadata": {
  "kernelspec": {
   "display_name": "Python 3",
   "language": "python",
   "name": "python3"
  },
  "language_info": {
   "codemirror_mode": {
    "name": "ipython",
    "version": 3
   },
   "file_extension": ".py",
   "mimetype": "text/x-python",
   "name": "python",
   "nbconvert_exporter": "python",
   "pygments_lexer": "ipython3",
   "version": "3.13.5"
  }
 },
 "nbformat": 4,
 "nbformat_minor": 5
}
